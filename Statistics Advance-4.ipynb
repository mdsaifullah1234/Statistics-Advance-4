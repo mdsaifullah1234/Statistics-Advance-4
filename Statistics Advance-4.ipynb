{
 "cells": [
  {
   "cell_type": "markdown",
   "metadata": {},
   "source": [
    "Q1: What is the difference between a t-test and a z-test? Provide an example scenario where you would\n",
    "use each type of test.\n",
    "\n",
    "Answer  =T-Test:\n",
    "\n",
    "When to use: T-tests are generally used when the sample size is small (typically less than 30) or when the population standard deviation is unknown.\n",
    "Example Scenario: Suppose you want to test whether there is a significant difference in the average scores of two groups of students (Group A and Group B). You collect sample data from each group, and since the sample sizes are relatively small, you choose to use a t-test.\n",
    "Z-Test:\n",
    "\n",
    "When to use: Z-tests are suitable when the sample size is large (typically greater than 30) or when the population standard deviation is known.\n",
    "Example Scenario: Imagine a scenario where you want to determine if the average height of a specific population is significantly different from a known population mean height. If you have a large enough sample size and know the population standard deviation, you might opt for a z-test.\n",
    "Example Scenarios:\n",
    "\n",
    "Scenario 1 (T-Test):\n",
    "Suppose you are a nutritionist investigating whether a new diet plan results in a significant weight loss. You collect weight data from a small sample of 20 individuals who followed the diet plan for a month. Since you don't know the population standard deviation, you decide to use a t-test to assess whether the mean weight loss is statistically significant."
   ]
  },
  {
   "cell_type": "code",
   "execution_count": null,
   "metadata": {},
   "outputs": [],
   "source": [
    "# Example code for a t-test in Python\n",
    "import scipy.stats as stats\n",
    "\n",
    "# Assuming weight_data is a list of weight measurements\n",
    "# from the sample before and after the diet\n",
    "t_statistic, p_value = stats.ttest_1samp(weight_data, 0)\n",
    "\n",
    "# Check p-value to determine significance\n",
    "if p_value < 0.05:\n",
    "    print(\"The diet plan results in a significant weight loss.\")\n",
    "else:\n",
    "    print(\"There is not enough evidence to conclude a significant weight loss.\")\n"
   ]
  },
  {
   "cell_type": "code",
   "execution_count": null,
   "metadata": {},
   "outputs": [],
   "source": [
    "# Example code for a z-test in Python\n",
    "import scipy.stats as stats\n",
    "\n",
    "# Assuming iq_data is a list of IQ scores from the sample\n",
    "z_statistic, p_value = stats.ztest(iq_data, value=100, sigma=15)\n",
    "\n",
    "# Check p-value to determine significance\n",
    "if p_value < 0.05:\n",
    "    print(\"The sample has a significantly different average IQ score.\")\n",
    "else:\n",
    "    print(\"There is not enough evidence to conclude a significant difference in average IQ score.\")\n"
   ]
  },
  {
   "cell_type": "markdown",
   "metadata": {},
   "source": [
    "Q2: Differentiate between one-tailed and two-tailed tests.\n",
    "\n",
    "Answer = One-tailed test\n",
    "\n",
    "A one-tailed test is a hypothesis test in which the alternative hypothesis specifies the direction of the difference between the population parameters. In other words, a one-tailed test is used to test whether the population mean is greater than or less than a specified value, or whether the population correlation is positive or negative.\n",
    "\n",
    "Two-tailed test\n",
    "\n",
    "A two-tailed test is a hypothesis test in which the alternative hypothesis does not specify the direction of the difference between the population parameters. In other words, a two-tailed test is used to test whether the population mean is different from a specified value, or whether the population correlation is not equal to zero.\n",
    "\n",
    "Key differences\n",
    "\n",
    "The key differences between one-tailed and two-tailed tests are:\n",
    "\n",
    "Direction of the difference: One-tailed tests specify the direction of the difference between the population parameters, while two-tailed tests do not.\n",
    "Critical region: One-tailed tests have a critical region on only one side of the sampling distribution, while two-tailed tests have a critical region on both sides of the sampling distribution.\n",
    "P-value: The p-value for a one-tailed test is half the p-value for a two-tailed test.\n",
    "When to use each type of test\n",
    "\n",
    "One-tailed tests should be used when the researcher has a strong prior belief about the direction of the difference between the population parameters. For example, a researcher might use a one-tailed test to test whether a new drug is effective at lowering blood pressure, since it is known that blood pressure can only decrease.\n",
    "\n",
    "Two-tailed tests should be used when the researcher does not have a strong prior belief about the direction of the difference between the population parameters. For example, a researcher might use a two-tailed test to test whether a new teaching method is effective at improving student test scores, since it is not known whether the new teaching method will improve or decrease test scores.\n",
    "\n"
   ]
  },
  {
   "cell_type": "markdown",
   "metadata": {},
   "source": [
    "Q3: Explain the concept of Type 1 and Type 2 errors in hypothesis testing. Provide an example scenario for\n",
    "each type of error.\n",
    "\n",
    "\n",
    "Answer = Type I error\n",
    "\n",
    "A Type I error is an error that occurs when the researcher incorrectly rejects the null hypothesis when it is actually true. This is also known as a \"false positive\" error.\n",
    "\n",
    "Example scenario for a Type I error:\n",
    "\n",
    "A pharmaceutical company is developing a new drug to treat high blood pressure. They conduct a clinical trial and find that the drug significantly lowers blood pressure in the treatment group compared to the placebo group. However, the drug actually has no effect on blood pressure, and the observed difference was due to chance alone. The pharmaceutical company incorrectly rejects the null hypothesis that the drug has no effect on blood pressure, and they commit a Type I error.\n",
    "\n",
    "Type II error\n",
    "\n",
    "A Type II error is an error that occurs when the researcher fails to reject the null hypothesis when it is actually false. This is also known as a \"false negative\" error.\n",
    "\n",
    "Example scenario for a Type II error:\n",
    "\n",
    "A teacher is developing a new teaching method to improve student test scores. They implement the new teaching method in their classroom and conduct a study to compare the test scores of students who were taught using the new method to the test scores of students who were taught using the traditional method. However, the new teaching method is actually more effective than the traditional method, but the study does not have enough power to detect the difference. The teacher fails to reject the null hypothesis that the two teaching methods are equally effective, and they commit a Type II error.\n",
    "\n",
    "Avoiding Type I and Type II errors\n",
    "\n",
    "There are a number of things that researchers can do to avoid Type I and Type II errors, including:\n",
    "\n",
    "Using a large enough sample size: A larger sample size will provide more statistical power, which will make it less likely that the researcher will commit a Type II error.\n",
    "Setting a reasonable significance level: The significance level is the probability of making a Type I error. A lower significance level will make it less likely that the researcher will commit a Type I error, but it will also make it more likely that the researcher will commit a Type II error.\n",
    "Using a more sensitive test statistic: Some test statistics are more sensitive than others, meaning that they are more likely to detect a real difference between the groups. Using a more sensitive test statistic will make it less likely that the researcher will commit a Type II error.\n"
   ]
  },
  {
   "cell_type": "markdown",
   "metadata": {},
   "source": [
    "Q4: Explain Bayes's theorem with an example.\n",
    "\n",
    "Answer  =  Bayes' theorem is a fundamental concept in probability theory that describes the conditional probability of an event occurring based on prior knowledge of other events that have already occurred. It is expressed mathematically as:\n",
    "\n",
    "P(A|B) = (P(B|A) * P(A)) / P(B)\n",
    "where:\n",
    "\n",
    "P(A) is the prior probability of event A occurring\n",
    "P(B) is the prior probability of event B occurring\n",
    "P(A|B) is the conditional probability of event A occurring given that event B has already occurred\n",
    "P(B|A) is the conditional probability of event B occurring given that event A has already occurred\n",
    "Example:\n",
    "\n",
    "Imagine you are a doctor trying to diagnose a patient who is experiencing chest pain. You know that the patient is 50 years old and has a family history of heart disease. You also know that the patient's chest pain is a symptom of both heart disease and indigestion.\n",
    "\n",
    "Bayes' theorem can be used to calculate the probability that the patient has heart disease given that they are experiencing chest pain.\n",
    "\n",
    "P(Heart Disease|Chest Pain) = (P(Chest Pain|Heart Disease) * P(Heart Disease)) / P(Chest Pain)\n",
    "In this case:\n",
    "\n",
    "P(Chest Pain|Heart Disease) is the probability that a patient will experience chest pain if they have heart disease. This is known as the sensitivity of the test.\n",
    "P(Heart Disease) is the prior probability that a patient has heart disease. This is known as the prevalence of the disease.\n",
    "P(Chest Pain) is the probability that a patient will experience chest pain. This is the total probability of the symptom, regardless of whether or not the patient has heart disease.\n",
    "By calculating the probability of heart disease given chest pain, the doctor can make a more informed decision about the patient's diagnosis."
   ]
  },
  {
   "cell_type": "markdown",
   "metadata": {},
   "source": [
    "Q5: What is a confidence interval? How to calculate the confidence interval, explain with an example.\n",
    "\n",
    "Answer = In statistics, a confidence interval is a range of values that is likely to contain an unknown population parameter. It is calculated at a designated confidence level, which is the percentage of times that the interval would contain the true population parameter if we were to repeat the experiment or re-sample the population many times. The most common confidence levels are 95% and 99%.\n",
    "\n",
    "How to calculate a confidence interval\n",
    "\n",
    "The formula for calculating a confidence interval depends on the type of parameter being estimated and the sample size. However, the general formula is:\n",
    "\n",
    "CI = estimate ± (margin of error)\n",
    "where:\n",
    "\n",
    "CI is the confidence interval\n",
    "estimate is the point estimate of the parameter\n",
    "margin of error is the half-width of the confidence interval\n",
    "The margin of error is calculated using the following formula:\n",
    "\n",
    "margin of error = z * (standard error)\n",
    "where:\n",
    "\n",
    "z is the z-score corresponding to the confidence level\n",
    "standard error is the standard deviation of the sample mean\n",
    "Example\n",
    "\n",
    "A researcher wants to estimate the mean weight of male college students. They take a random sample of 30 male students and find that the sample mean weight is 170 pounds with a standard deviation of 10 pounds.\n",
    "\n",
    "The researcher wants to calculate a 95% confidence interval for the mean weight of male college students.\n",
    "\n",
    "First, they need to find the z-score corresponding to the 95% confidence level. This can be found using a z-score table. The z-score corresponding to the 95% confidence level is 1.96.\n",
    "\n",
    "Next, they need to calculate the standard error. The standard error is calculated by dividing the population standard deviation by the square root of the sample size. In this case, the standard error is:\n",
    "\n",
    "standard error = 10 pounds / √30 = 1.87 pounds\n",
    "Now they can calculate the margin of error. The margin of error is:\n",
    "\n",
    "margin of error = 1.96 * 1.87 pounds = 3.67 pounds\n",
    "Finally, they can calculate the confidence interval. The confidence interval is:\n",
    "\n",
    "CI = 170 pounds ± 3.67 pounds = 166.33 pounds to 173.67 pounds\n",
    "The researcher is 95% confident that the true mean weight of male college students is between 166.33 pounds and 173.67 pounds.\n",
    "\n"
   ]
  },
  {
   "cell_type": "markdown",
   "metadata": {},
   "source": [
    "Q6. Use Bayes' Theorem to calculate the probability of an event occurring given prior knowledge of the\n",
    "event's probability and new evidence. Provide a sample problem and solution.  \n",
    "\n",
    "\n",
    "Answer   = here is an example of how to use Bayes' theorem to calculate the probability of an event occurring given prior knowledge of the event's probability and new evidence:\n",
    "\n",
    "Sample problem:\n",
    "\n",
    "A medical test is used to diagnose a disease. The test is known to have a sensitivity of 80% and a specificity of 95%. This means that 80% of the time, the test will correctly identify people who have the disease, and 95% of the time, the test will correctly identify people who do not have the disease.\n",
    "\n",
    "A patient takes the test and the result is positive. What is the probability that the patient actually has the disease?\n",
    "\n",
    "Solution:\n",
    "\n",
    "We can use Bayes' theorem to calculate the probability that the patient has the disease given that the test is positive.\n",
    "\n",
    "P(Disease|Positive Test) = (P(Positive Test|Disease) * P(Disease)) / P(Positive Test)\n",
    "In this case:\n",
    "\n",
    "P(Positive Test|Disease) = 0.8 (the sensitivity of the test)\n",
    "P(Disease) is the prior probability that a patient has the disease. This is unknown, so we will assume it is 0.05 (5%).\n",
    "P(Positive Test) is the probability that a patient will test positive. This can be calculated using the following formula:\n",
    "P(Positive Test) = P(Positive Test|Disease) * P(Disease) + P(Positive Test|Not Disease) * P(Not Disease)\n",
    "\n",
    "where:\n",
    "\n",
    "P(Positive Test|Not Disease) is the probability that a patient will test positive if they do not have the disease. This is known as the false positive rate of the test.\n",
    "P(Not Disease) is the probability that a patient does not have the disease. This is 1 - P(Disease) = 0.95.\n",
    "Plugging in the values, we get:\n",
    "\n",
    "P(Positive Test) = (0.8 * 0.05) + (0.05 * 0.95) = 0.10\n",
    "Now we can calculate the probability that the patient has the disease given that the test is positive:\n",
    "\n",
    "P(Disease|Positive Test) = (0.8 * 0.05) / 0.10 = 0.4\n",
    "Therefore, the probability that the patient actually has the disease given that the test is positive is 40%."
   ]
  },
  {
   "cell_type": "markdown",
   "metadata": {},
   "source": [
    "Q7. Calculate the 95% confidence interval for a sample of data with a mean of 50 and a standard deviation\n",
    "of 5. Interpret the results."
   ]
  },
  {
   "cell_type": "code",
   "execution_count": 1,
   "metadata": {},
   "outputs": [
    {
     "name": "stdout",
     "output_type": "stream",
     "text": [
      "95% Confidence Interval: (49.02, 50.98)\n"
     ]
    }
   ],
   "source": [
    "import math\n",
    "\n",
    "# Given values\n",
    "sample_mean = 50\n",
    "sample_std = 5\n",
    "sample_size = 100  # Replace this with your actual sample size\n",
    "confidence_level = 0.95\n",
    "\n",
    "# Calculate the margin of error\n",
    "margin_of_error = 1.96 * (sample_std / math.sqrt(sample_size))\n",
    "\n",
    "# Calculate the confidence interval\n",
    "lower_limit = sample_mean - margin_of_error\n",
    "upper_limit = sample_mean + margin_of_error\n",
    "\n",
    "# Display the results\n",
    "print(f\"95% Confidence Interval: ({lower_limit:.2f}, {upper_limit:.2f})\")\n"
   ]
  },
  {
   "cell_type": "markdown",
   "metadata": {},
   "source": [
    "Q8. What is the margin of error in a confidence interval? How does sample size affect the margin of error?\n",
    "Provide an example of a scenario where a larger sample size would result in a smaller margin of error.\n",
    "\n",
    "Answer = \n",
    "The margin of error in a confidence interval is a measure of the precision of the estimate of the population mean. It is calculated by taking the standard error of the mean and multiplying it by the z-score corresponding to the desired confidence level. The z-score is a measure of how many standard deviations a particular value is away from the mean of the distribution. For example, the z-score for a confidence level of 95% is 1.96.\n",
    "\n",
    "The sample size affects the margin of error in a confidence interval in the following way: the larger the sample size, the smaller the margin of error. This is because a larger sample size provides more information about the population, which makes it more likely that the sample mean will be close to the true population mean.\n",
    "\n",
    "Here is an example of a scenario where a larger sample size would result in a smaller margin of error:\n",
    "\n",
    "A researcher wants to estimate the average height of students at a university. They take a random sample of 100 students and find that the sample mean height is 5 feet 6 inches. They want to calculate a 95% confidence interval for the average height of students at the university.\n",
    "\n",
    "The researcher calculates the standard error of the mean to be 1 inch. They then multiply the standard error of the mean by the z-score for a confidence level of 95% (1.96) to get the margin of error, which is 1.96 inches.\n",
    "\n",
    "The researcher then calculates the confidence interval to be 5 feet 4 inches to 5 feet 8 inches.\n",
    "\n",
    "The researcher then decides to take a larger sample of 500 students. They find that the sample mean height is still 5 feet 6 inches, but the standard error of the mean is now only 0.4 inches.\n",
    "\n",
    "The researcher then calculates the margin of error to be 0.78 inches.\n",
    "\n",
    "The researcher then calculates the confidence interval to be 5 feet 5.22 inches to 5 feet 6.78 inches.\n",
    "\n"
   ]
  },
  {
   "cell_type": "markdown",
   "metadata": {},
   "source": [
    "Q9. Calculate the z-score for a data point with a value of 75, a population mean of 70, and a population\n",
    "standard deviation of 5. Interpret the results."
   ]
  },
  {
   "cell_type": "code",
   "execution_count": 2,
   "metadata": {},
   "outputs": [
    {
     "name": "stdout",
     "output_type": "stream",
     "text": [
      "The z-score for the data point is: 1.00\n"
     ]
    }
   ],
   "source": [
    "# Given values\n",
    "data_point = 75\n",
    "population_mean = 70\n",
    "population_std = 5\n",
    "\n",
    "# Calculate the z-score\n",
    "z_score = (data_point - population_mean) / population_std\n",
    "\n",
    "# Display the result\n",
    "print(f\"The z-score for the data point is: {z_score:.2f}\")\n"
   ]
  },
  {
   "cell_type": "markdown",
   "metadata": {},
   "source": [
    "Q10. In a study of the effectiveness of a new weight loss drug, a sample of 50 participants lost an average\n",
    "of 6 pounds with a standard deviation of 2.5 pounds. Conduct a hypothesis test to determine if the drug is\n",
    "significantly effective at a 95% confidence level using a t-test."
   ]
  },
  {
   "cell_type": "code",
   "execution_count": null,
   "metadata": {},
   "outputs": [],
   "source": [
    "import math\n",
    "from scipy.stats import t\n",
    "\n",
    "# Given values\n",
    "sample_mean = 6\n",
    "population_mean_hypothesized = 0\n",
    "sample_std = 2.5\n",
    "sample_size = 50\n",
    "confidence_level = 0.95\n",
    "\n",
    "# Calculate the t-statistic\n",
    "t_statistic = (sample_mean - population_mean_hypothesized) / (sample_std / math.sqrt(sample_size))\n",
    "\n",
    "# Calculate degrees of freedom\n",
    "degrees_of_freedom = sample_size - 1\n",
    "\n",
    "# Calculate the critical value for a two-tailed test\n",
    "critical_value = t.ppf(1 - (1 - confidence_level) / 2, degrees_of_freedom)\n",
    "\n",
    "# Compare the t-statistic to the critical value\n",
    "if abs(t_statistic) > critical_value:\n",
    "    print(\"Reject the null hypothesis. The drug is significantly effective.\")\n",
    "else:\n",
    "    print(\"Fail to reject the null hypothesis. There is not enough evidence to conclude the drug is effective.\")\n"
   ]
  },
  {
   "cell_type": "markdown",
   "metadata": {},
   "source": [
    "Q11. In a survey of 500 people, 65% reported being satisfied with their current job. Calculate the 95%\n",
    "confidence interval for the true proportion of people who are satisfied with their job."
   ]
  },
  {
   "cell_type": "code",
   "execution_count": 4,
   "metadata": {},
   "outputs": [
    {
     "name": "stdout",
     "output_type": "stream",
     "text": [
      "95% Confidence Interval: (0.6082, 0.6918)\n"
     ]
    }
   ],
   "source": [
    "import math\n",
    "\n",
    "# Given values\n",
    "sample_proportion = 0.65\n",
    "confidence_level = 0.95\n",
    "sample_size = 500\n",
    "\n",
    "# Calculate the margin of error\n",
    "margin_of_error = 1.96 * math.sqrt((sample_proportion * (1 - sample_proportion)) / sample_size)\n",
    "\n",
    "# Calculate the confidence interval\n",
    "lower_limit = sample_proportion - margin_of_error\n",
    "upper_limit = sample_proportion + margin_of_error\n",
    "\n",
    "# Display the results\n",
    "print(f\"95% Confidence Interval: ({lower_limit:.4f}, {upper_limit:.4f})\")\n"
   ]
  },
  {
   "cell_type": "markdown",
   "metadata": {},
   "source": [
    "Q12. A researcher is testing the effectiveness of two different teaching methods on student performance.\n",
    "Sample A has a mean score of 85 with a standard deviation of 6, while sample B has a mean score of 82\n",
    "with a standard deviation of 5. Conduct a hypothesis test to determine if the two teaching methods have a\n",
    "significant difference in student performance using a t-test with a significance level of 0.01."
   ]
  },
  {
   "cell_type": "code",
   "execution_count": null,
   "metadata": {},
   "outputs": [],
   "source": [
    "import math\n",
    "from scipy.stats import t\n",
    "\n",
    "# Given values\n",
    "mean_A = 85\n",
    "std_A = 6\n",
    "n_A = 30  # Replace with the actual sample size for Sample A\n",
    "\n",
    "mean_B = 82\n",
    "std_B = 5\n",
    "n_B = 30  # Replace with the actual sample size for Sample B\n",
    "\n",
    "alpha = 0.01\n",
    "\n",
    "# Calculate the two-sample t-statistic\n",
    "t_statistic = (mean_A - mean_B) / math.sqrt((std_A**2 / n_A) + (std_B**2 / n_B))\n",
    "\n",
    "# Calculate degrees of freedom\n",
    "degrees_of_freedom = n_A + n_B - 2\n",
    "\n",
    "# Calculate the critical value for a two-tailed test\n",
    "critical_value = t.ppf(1 - alpha / 2, degrees_of_freedom)\n",
    "\n",
    "# Compare the t-statistic to the critical value\n",
    "if abs(t_statistic) > critical_value:\n",
    "    print(\"Reject the null hypothesis. There is a significant difference in student performance between the two teaching methods.\")\n",
    "else:\n",
    "    print(\"Fail to reject the null hypothesis. There is not enough evidence to conclude a significant difference.\")\n"
   ]
  },
  {
   "cell_type": "markdown",
   "metadata": {},
   "source": [
    "Q13. A population has a mean of 60 and a standard deviation of 8. A sample of 50 observations has a mean\n",
    "of 65. Calculate the 90% confidence interval for the true population mean."
   ]
  },
  {
   "cell_type": "code",
   "execution_count": 5,
   "metadata": {},
   "outputs": [
    {
     "name": "stdout",
     "output_type": "stream",
     "text": [
      "90% Confidence Interval: (63.14, 66.86)\n"
     ]
    }
   ],
   "source": [
    "import math\n",
    "\n",
    "# Given values\n",
    "sample_mean = 65\n",
    "population_std = 8\n",
    "sample_size = 50\n",
    "confidence_level = 0.90\n",
    "\n",
    "# Calculate the margin of error\n",
    "margin_of_error = 1.645 * (population_std / math.sqrt(sample_size))\n",
    "\n",
    "# Calculate the confidence interval\n",
    "lower_limit = sample_mean - margin_of_error\n",
    "upper_limit = sample_mean + margin_of_error\n",
    "\n",
    "# Display the results\n",
    "print(f\"90% Confidence Interval: ({lower_limit:.2f}, {upper_limit:.2f})\")\n"
   ]
  },
  {
   "cell_type": "markdown",
   "metadata": {},
   "source": [
    "Q14. In a study of the effects of caffeine on reaction time, a sample of 30 participants had an average\n",
    "reaction time of 0.25 seconds with a standard deviation of 0.05 seconds. Conduct a hypothesis test to\n",
    "determine if the caffeine has a significant effect on reaction time at a 90% confidence level using a t-test."
   ]
  },
  {
   "cell_type": "code",
   "execution_count": null,
   "metadata": {},
   "outputs": [],
   "source": [
    "import math\n",
    "from scipy.stats import t\n",
    "\n",
    "# Given values\n",
    "sample_mean = 0.25\n",
    "sample_std = 0.05\n",
    "sample_size = 30\n",
    "confidence_level = 0.90\n",
    "population_mean_hypothesized = ?  # Replace with the hypothesized population mean\n",
    "\n",
    "# Calculate the t-statistic\n",
    "t_statistic = (sample_mean - population_mean_hypothesized) / (sample_std / math.sqrt(sample_size))\n",
    "\n",
    "# Calculate degrees of freedom\n",
    "degrees_of_freedom = sample_size - 1\n",
    "\n",
    "# Calculate the critical value for a two-tailed test\n",
    "critical_value = t.ppf(1 - (1 - confidence_level) / 2, degrees_of_freedom)\n",
    "\n",
    "# Compare the t-statistic to the critical value\n",
    "if abs(t_statistic) > critical_value:\n",
    "    print(\"Reject the null hypothesis. Caffeine has a significant effect on reaction time.\")\n",
    "else:\n",
    "    print(\"Fail to reject the null hypothesis. There is not enough evidence to conclude a significant effect of caffeine on reaction time.\")\n"
   ]
  }
 ],
 "metadata": {
  "kernelspec": {
   "display_name": "Python 3",
   "language": "python",
   "name": "python3"
  },
  "language_info": {
   "codemirror_mode": {
    "name": "ipython",
    "version": 3
   },
   "file_extension": ".py",
   "mimetype": "text/x-python",
   "name": "python",
   "nbconvert_exporter": "python",
   "pygments_lexer": "ipython3",
   "version": "3.8.10"
  }
 },
 "nbformat": 4,
 "nbformat_minor": 2
}
